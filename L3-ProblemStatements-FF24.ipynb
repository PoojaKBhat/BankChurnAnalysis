{
 "cells": [
  {
   "cell_type": "markdown",
   "id": "7d9fdb39",
   "metadata": {},
   "source": [
    "# Level 3 Analysis:Solutions to Problem Statements"
   ]
  },
  {
   "cell_type": "markdown",
   "id": "f6208471",
   "metadata": {},
   "source": [
    "- 1.Which age group of women has a larger churn?.\n",
    "- 2.Analyze the churn of women customers based on their education level.\n",
    "- 3.Do you think the average Total Transaction amount of women who churned out is different from those who are still with the bank?\n",
    "\n",
    "- 4.Age-wise analysis of those customers whose dependent count is 2 or 3 (Existing and Churned out)\n",
    "- 5.Is there any relation between the number of dependents (2 or 3) and the Education level of customers who are existing and those churned out?\n",
    "- 6.Do you think the column \"Average open to buy\" is affected by the dependent count (2 or3)?\n",
    "\n",
    "- 7.Card Category wise analysis of customers who are high school passouts and churned out.\n",
    "- 8.Income category wise breakdown of customers who are high school passouts and still with the bank.\n",
    "- 9.Present the details of Total Transaction Amount of existing customers who are high school passouts.\n",
    "\n",
    "\n",
    "- 10.Analysis of education level of customers who are with the bank and those who left(Considering only the customers who are earning less than dollar-40,000).\n",
    "- 11.Analysis of Transaction Amount (mean, median, and mode) made by the existing customers and comparing - with those not existing(Considering only the customers who are earning less than dollar-40,000)\n",
    "- 12.What is the average utilization ratio of the customers who are existing?(Considering only the customers who are earning less than dollar-40,000)\n",
    "\n",
    "- 13.Analysis of the churned out customers who hold the blue card with respect to their Income category.\n",
    "- 14.Analysis of transaction amount (mean, median, mode) for blue card customers who are no longer with the bank and compare it with the existing customers\n",
    "- 15.How is the credit limit of the blue card customers affecting the churn?\n",
    "\n",
    "- 16.Analysis of the dependent count and who are churned out and who are still using the services.\n",
    "- 17.Is there any relation between the Credit limit and attrition of the customers?\n",
    "- 18.What is the average utilization ratio of the credit card for each age sub group between 40 and 50 (we need to group the customers into 4 buckets between 40 and 50)\n",
    "\n",
    "- 19.How are the education level and income category affecting the customer churn?\n",
    "- 20.Identify the churned out customers with high income category, high education level, and high credit limit.\n",
    "\n",
    "- 21.Is there is a relation between the attrition and the age of customers who have the lower utilization ratio?\n",
    "- 22.Analysis of Marital Status and utilization ratio of the customers who are leaving out the bank vs those who are still with the bank.\n",
    "- 23.Is there any relation between the credit limit offered to the customers (having lower utilization Ratio) compared to those who are having a higher utilization ratio?\n"
   ]
  },
  {
   "cell_type": "markdown",
   "id": "86b4c6fe",
   "metadata": {},
   "source": []
  },
  {
   "cell_type": "markdown",
   "id": "3a9c12ec",
   "metadata": {},
   "source": [
    "# Deeper Analysis¶\n",
    "### These questions needs to be solved by Trainee_Engineer.\n",
    "\n",
    "- 1.One could analyze how the education level and age of a customer is affecting \"avg open to buy\" where dependent count is 2 or 3?\n",
    "- 2.One could analyze how the education level within each income category is Affecting the transaction made by the customers who are still with the bank.\n",
    "\n",
    "- 3.One could check if there is any relation between Transaction Amount and Average Utilization Ratio for the existing customers who hold a graduate degree. This analysis can be further extended to all those customers with different education levels (existing and exited separately)\n",
    "\n",
    "- 4.Within each of the age sub groups (4 buckets between 40-50), what is the relation between the Credit limit and Average utilization ratio? We could carry out this analysis separately for those customers who are still with the bank and those who have left the bank.\n",
    "\n",
    "### Business Value\n",
    "##### At times, a lot of deeper analysis scenarios might not be useful for the business, even though they might look good from an analysis perspective."
   ]
  },
  {
   "cell_type": "code",
   "execution_count": null,
   "id": "c109cd79",
   "metadata": {},
   "outputs": [],
   "source": []
  }
 ],
 "metadata": {
  "kernelspec": {
   "display_name": "Python 3 (ipykernel)",
   "language": "python",
   "name": "python3"
  },
  "language_info": {
   "codemirror_mode": {
    "name": "ipython",
    "version": 3
   },
   "file_extension": ".py",
   "mimetype": "text/x-python",
   "name": "python",
   "nbconvert_exporter": "python",
   "pygments_lexer": "ipython3",
   "version": "3.11.3"
  }
 },
 "nbformat": 4,
 "nbformat_minor": 5
}
